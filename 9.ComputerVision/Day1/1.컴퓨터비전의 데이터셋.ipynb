{
 "cells": [
  {
   "cell_type": "markdown",
   "id": "3c1a38d6",
   "metadata": {},
   "source": [
    "# 1. 데이터셋\n",
    "* 기계 학습 모델을 학습하는데 사용되는 데이터의 모음\n",
    "* 데이터셋은 이미지, 오디오, 텍스트, 수치 데이터 등 다양한 데이터형으로 구성 될 수 있다. \n",
    "* 특징 데이터 유형과 데이터셋의 크기는 해결되는 문제와 사용 중인 모델 유형에 따라 달라짐 \n"
   ]
  },
  {
   "cell_type": "markdown",
   "id": "abc86b70",
   "metadata": {},
   "source": [
    "### 1-1. 데이터셋의 크기 \n",
    "* 모델이 학습 중에 본 예제의 수 \n",
    "* 작은 데이터셋: 다양한 예제가 포함되지 않아 과접합이 발생할 수 있음 \n",
    "* 대규모 데이터셋: 모델이 충분한 수의 예제를 보고 새 데이터로 일반화할 수 있음 "
   ]
  },
  {
   "cell_type": "markdown",
   "id": "640801ba",
   "metadata": {},
   "source": [
    "### 1-2. 데이터의 품질\n",
    "* 주석이 잘 못 지정되거나 레이블이 지정된 데이터셋은 모델의 성능에 부정적인 영향을 줄 수 있다. \n",
    "* 다양한 개체 변형의 존재, 조명, 조건, 배경 등을 포함한 데이터셋의 다양성도 모델의 견고성을 보장하는데 중요하다. "
   ]
  },
  {
   "cell_type": "markdown",
   "id": "d3c7d6e6",
   "metadata": {},
   "source": [
    ">데이터셋은 모든 컴퓨터 비전 프로젝트의 중요한 구성 요소이며 충분한 크기와 품질을 갖춘 올바른 데이터셋을 선택하면 모델 성능에 큰 영향을 미칠 수 있음\n"
   ]
  },
  {
   "cell_type": "markdown",
   "id": "97602476",
   "metadata": {},
   "source": [
    "# 2. 어노테이션 \n",
    "* 어노테이션(주석)은 데이터 집합의 데이터에 정보 또는 레이블을 추가하는 프로세스\n",
    "* 컴퓨터 비전에서 예를들어 이미지에서 특정 개체의 존재, 개체의 속성(생상, 크기, 모양)을 나타내는 레이블이 포함\n",
    "* 수동으로 추가하거나 컴퓨터 알고리즘을 사용하여 자동으로 생성 "
   ]
  },
  {
   "cell_type": "markdown",
   "id": "cfb0bfe1",
   "metadata": {},
   "source": [
    "### 2-1. 어노테이션의 종류\n",
    "* Bounding Box\n",
    "    * 이미지 내에서 개체의 위치 및 크기를 정의하는 작업\n",
    "    * 객체 주위에 box를 그리고 클래스(사람, 자동차...)로 label을 지정\n",
    "    * Object detection에 일반적으로 사용된다. \n",
    "    * 이미지 내에서 객체의 위치를 정의하는 간단하고 효과적인 방법\n",
    "* Keypoint\n",
    "    * Landmark와 같은 개체 내의 특정 관심 지점을 표시하는 작업 \n",
    "    * 사람 또는 동물의 이미지 내 관절의 위치를 예측하는 것이 목표인 task에 종종 사용된다. \n",
    "* Segmentation\n",
    "    * 이미지내에서 객체의 경계를 정의한다. \n",
    "    * 객체의 경계를 표시하고 인식하고 이미지내의 객체를 분류하도록 훈련한다. \n",
    "    * 복잡한 형태의 어노테이션이지만 이미지 내의 개체에 대한 더 자세한 정보를 제공 하므로 성능이 향상 될 수  있다."
   ]
  },
  {
   "cell_type": "markdown",
   "id": "c6453d27",
   "metadata": {},
   "source": [
    "### 2-2.어노테이션 방법\n",
    "* 수동주석(사람이 손으로 직접하는것)\n",
    "    * 마우스 또는 스타일러스와 같은 도구를 사용하여 이미지 내의 각 개체에 수동으로 레이블을 지정하는 작업\n",
    "    * 가장 시간이 많이 걸리지만 최고 수준의 제어와 정확성을 제공한다. \n",
    "* 반자동 주석 \n",
    "    * 컴퓨터 지원 도구를 사용하여 주석 프로세스의 속도를 높이는 작업 \n",
    "    * 어노테이터는 도구를 사용하여 개체 주위에 경계 상자를 그릴 수 있으며, 컴퓨터는 자동으로 개체에 해당 클래스로 레이블을 지정한다. \n",
    "    * 수동 주석보다 빠르지만 정확성을 보장하려면 사람의 입력을 필요함\n",
    "* 자동주석 \n",
    "    * 컴퓨터 알고리즘을 사용하여 이미지 내의 개체에 자동으로 레이블을 지정하는 작업\n",
    "    * 가장 빠르지만 정확도가 낮음 \n",
    "    * 자동 주석은 수작업 비용이 엄청나는 대규모 데이터셋에 주석을 추가하는데 사용 "
   ]
  },
  {
   "cell_type": "markdown",
   "id": "ae59868e",
   "metadata": {},
   "source": [
    "### 2.3 어노테이션 툴 \n",
    "* https://awkvect.com/data-annotation-tool-analysis-how-to-use-labelme/\n"
   ]
  },
  {
   "cell_type": "markdown",
   "id": "6a3a9357",
   "metadata": {},
   "source": [
    "# 3. 데이터셋 포멧  \n",
    "\n",
    "### 3-1. Pascal VOC(Visual Object Classes)\n",
    "* http://host.robots.ox.ac.uk/pascal/VOC/\n",
    "* 컴퓨터 비전에서 객체 인식 및 분류를 위한 유명한 데이터셋\n",
    "* 디지털 카메라, 웹페이지 및 스캔이미지를 포함한 다양한 소스에서 가져온 이미지로 구성\n",
    "* 사람, 동물, 차량, 일상적인 개체를 비롯한 20개의 다양한 개체 포함\n",
    "* 각 이미지의 개체는 년도별로 어노테이션 종류가 다양함\n",
    "* Pascal VOC 구조 \n",
    "    * Annotations: JPEGImages폴더 속 원본 이미지와 같은 이름들의 xml파일들이 존재, Object Detection을 위한 정답 데이터\n",
    "    * ImageSets: 어떤 이미지 그룹을 train, val, test로 사용할 것인지 특정 클래스가 어떤 이미지에 있는지 등에 대한 정보들을 포함한다. \n",
    "    * JPEGImages: *.jpg 확장자를 가진 이미지 파일들이 모여있는 폴더 \n",
    "    * SegmentationClass: Semantic segmentation을 학습하기 위한 label 이미지\n",
    "    * SegmentationObject: Instance segmentation을 학습하기 위한 label 이미지"
   ]
  },
  {
   "cell_type": "markdown",
   "id": "e794fb70",
   "metadata": {},
   "source": [
    "### 3-2.COCO데이터셋(Common Objects in Context)\n",
    "* 컴퓨터 비전을 위한 마이크로소프트 리서치에서 만든 대규모 이미지 인식 데이터셋 \n",
    "* 이미지 및 비디오의 개체를 인식하기 위한 알고리즘을 개발하고 평가할 수 있도록 설계한다\n",
    "* 디지털 카메라, 웹페이지 및 스캔 이미지를 포함한 다양한 소스에서 수집 된 330,000개 이상의 이미지\n",
    "* 이미지에서는 사람, 동물, 차량, 일상적인 개체를 비롯한 80개의 다양한 개체 포함\n",
    "* 각 개체에는 년도별로 어노테이션 종류가 다양함\n",
    "* 어노테이션에는 이미지에 있는 개체 간의 특성 및 관계에 대한 정보 포함\n",
    "    * COCO 구조\n",
    "        * 학습용 파일, 검증용 파일, 테스트용 3종류 파일이 존재한다. \n",
    "        * JSON 포멧인 한개의 파일로 각각(학습용,검증용,테스트용)으로 구성되어있다. "
   ]
  },
  {
   "cell_type": "markdown",
   "id": "83804464",
   "metadata": {},
   "source": [
    "### 3-3.ImageNet\n",
    "* https://cocodataset.org/#home\n",
    "* 스탠포드 비전 랩과 프린스턴 대학에서 만들었다. \n",
    "* 디지털 카메라, 웹페이지 및 스캔 이미지를 비롯한 다양한 소스에서 수집된 1,400만개 이상의 이미지로 구성 되어있다. \n",
    "* 이미지에는 사람, 동물, 차량, 일상적인 개체를 비롯한 다양한 개체 포함\n",
    "* 각 이미지에는 1,000개의 개체 범주 집합에서 하나 이상의 클래스 레이블이 주석으로 지정\n",
    "* 다른 데이터셋과 다르기 annotation(어노케이션)이 없다\n",
    "* Train/ val/ test 폴더로 클래스를 구분한다. \n"
   ]
  },
  {
   "cell_type": "markdown",
   "id": "98a5b22d",
   "metadata": {},
   "source": [
    "### 3-4.KITTI(Karlsruhe Institute of Technology and Toyota Technological Institute at Chicago)\n",
    "* 컴퓨터 비전 및 로봇 공학을 위한 데이터셋\n",
    "* 움직이는 차량에서 캡처 한 이미지 및 비디오에서 객체 인식 및 감지를 위한 알고리즘의 개발 및 평가를 위한 실제 데이터를 제공하기 위해 만들어짐\n",
    "* 움직이는 차량에서 캡처한 7,000개 이상의 이미지와 비디오로 구성\n",
    "* 도시 및 농촌 환경, 도로, 건물, 차량, 보행자,를 포함한 다양한 개체와 장면을 포함하고 있다. \n",
    "* 각 이미지 또는 비디오의 개체에는 경계 상자와 클래스 레이블이 주석으로 추가 \n",
    "* 각 주석에는 3D 공간에서 개체의 위치와 방향에 대한 정보도 포함하고 있다. \n"
   ]
  },
  {
   "cell_type": "markdown",
   "id": "5e9e5be9",
   "metadata": {},
   "source": [
    "# 4. 다양한 데이터셋\n",
    "* https://paperswithcode.com/datasets?mod=images&page=1"
   ]
  }
 ],
 "metadata": {
  "kernelspec": {
   "display_name": "Python 3 (ipykernel)",
   "language": "python",
   "name": "python3"
  },
  "language_info": {
   "codemirror_mode": {
    "name": "ipython",
    "version": 3
   },
   "file_extension": ".py",
   "mimetype": "text/x-python",
   "name": "python",
   "nbconvert_exporter": "python",
   "pygments_lexer": "ipython3",
   "version": "3.8.6"
  }
 },
 "nbformat": 4,
 "nbformat_minor": 5
}
