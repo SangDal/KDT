{
 "cells": [
  {
   "cell_type": "code",
   "execution_count": 6,
   "id": "201d3381",
   "metadata": {},
   "outputs": [
    {
     "name": "stdout",
     "output_type": "stream",
     "text": [
      "Collecting pandas\n",
      "  Downloading pandas-2.0.2-cp38-cp38-win_amd64.whl (10.8 MB)\n",
      "Collecting pytz>=2020.1\n",
      "  Downloading pytz-2023.3-py2.py3-none-any.whl (502 kB)\n",
      "Collecting numpy>=1.20.3\n",
      "  Downloading numpy-1.24.3-cp38-cp38-win_amd64.whl (14.9 MB)\n",
      "Collecting tzdata>=2022.1\n",
      "  Downloading tzdata-2023.3-py2.py3-none-any.whl (341 kB)\n",
      "Requirement already satisfied: python-dateutil>=2.8.2 in c:\\users\\sangdal\\appdata\\local\\packages\\pythonsoftwarefoundation.python.3.8_qbz5n2kfra8p0\\localcache\\local-packages\\python38\\site-packages (from pandas) (2.8.2)\n",
      "Requirement already satisfied: six>=1.5 in c:\\users\\sangdal\\appdata\\local\\packages\\pythonsoftwarefoundation.python.3.8_qbz5n2kfra8p0\\localcache\\local-packages\\python38\\site-packages (from python-dateutil>=2.8.2->pandas) (1.16.0)\n",
      "Installing collected packages: tzdata, pytz, numpy, pandas\n",
      "Successfully installed numpy-1.24.3 pandas-2.0.2 pytz-2023.3 tzdata-2023.3\n"
     ]
    },
    {
     "name": "stderr",
     "output_type": "stream",
     "text": [
      "  WARNING: The script f2py.exe is installed in 'C:\\Users\\sangdal\\AppData\\Local\\Packages\\PythonSoftwareFoundation.Python.3.8_qbz5n2kfra8p0\\LocalCache\\local-packages\\Python38\\Scripts' which is not on PATH.\n",
      "  Consider adding this directory to PATH or, if you prefer to suppress this warning, use --no-warn-script-location.\n",
      "WARNING: You are using pip version 21.1.1; however, version 23.1.2 is available.\n",
      "You should consider upgrading via the 'C:\\Users\\sangdal\\AppData\\Local\\Microsoft\\WindowsApps\\PythonSoftwareFoundation.Python.3.8_qbz5n2kfra8p0\\python.exe -m pip install --upgrade pip' command.\n"
     ]
    }
   ],
   "source": [
    "!pip install pandas"
   ]
  },
  {
   "cell_type": "code",
   "execution_count": 11,
   "id": "177d4a01",
   "metadata": {},
   "outputs": [
    {
     "name": "stdout",
     "output_type": "stream",
     "text": [
      "Collecting requests\n",
      "  Downloading requests-2.31.0-py3-none-any.whl (62 kB)\n",
      "Collecting charset-normalizer<4,>=2\n",
      "  Downloading charset_normalizer-3.1.0-cp38-cp38-win_amd64.whl (96 kB)\n",
      "Requirement already satisfied: urllib3<3,>=1.21.1 in c:\\users\\sangdal\\appdata\\local\\packages\\pythonsoftwarefoundation.python.3.8_qbz5n2kfra8p0\\localcache\\local-packages\\python38\\site-packages (from requests) (2.0.2)\n",
      "Requirement already satisfied: certifi>=2017.4.17 in c:\\users\\sangdal\\appdata\\local\\packages\\pythonsoftwarefoundation.python.3.8_qbz5n2kfra8p0\\localcache\\local-packages\\python38\\site-packages (from requests) (2023.5.7)\n",
      "Requirement already satisfied: idna<4,>=2.5 in c:\\users\\sangdal\\appdata\\local\\packages\\pythonsoftwarefoundation.python.3.8_qbz5n2kfra8p0\\localcache\\local-packages\\python38\\site-packages (from requests) (3.4)\n",
      "Installing collected packages: charset-normalizer, requests\n",
      "Successfully installed charset-normalizer-3.1.0 requests-2.31.0\n"
     ]
    },
    {
     "name": "stderr",
     "output_type": "stream",
     "text": [
      "  WARNING: The script normalizer.exe is installed in 'C:\\Users\\sangdal\\AppData\\Local\\Packages\\PythonSoftwareFoundation.Python.3.8_qbz5n2kfra8p0\\LocalCache\\local-packages\\Python38\\Scripts' which is not on PATH.\n",
      "  Consider adding this directory to PATH or, if you prefer to suppress this warning, use --no-warn-script-location.\n",
      "WARNING: You are using pip version 21.1.1; however, version 23.1.2 is available.\n",
      "You should consider upgrading via the 'C:\\Users\\sangdal\\AppData\\Local\\Microsoft\\WindowsApps\\PythonSoftwareFoundation.Python.3.8_qbz5n2kfra8p0\\python.exe -m pip install --upgrade pip' command.\n"
     ]
    }
   ],
   "source": [
    "!pip install requests"
   ]
  },
  {
   "cell_type": "code",
   "execution_count": 153,
   "id": "7e9a9919",
   "metadata": {},
   "outputs": [],
   "source": [
    "import pandas as pd\n",
    "from selenium import webdriver\n",
    "from selenium.webdriver.common.by import By\n",
    "import requests\n",
    "from bs4 import BeautifulSoup #파싱 할때 쓰이는 모듈"
   ]
  },
  {
   "cell_type": "code",
   "execution_count": 137,
   "id": "5c313022",
   "metadata": {
    "scrolled": false
   },
   "outputs": [],
   "source": [
    "driver = webdriver.Chrome()\n",
    "driver.get('https://www.banapresso.com/store')\n",
    "soup = BeautifulSoup(driver.page_source)\n",
    "# print(soup)"
   ]
  },
  {
   "cell_type": "code",
   "execution_count": 66,
   "id": "93e931f2",
   "metadata": {},
   "outputs": [
    {
     "name": "stdout",
     "output_type": "stream",
     "text": [
      "[<i>가산디지털단지역점</i>, <i>강남구청점</i>, <i>강남역사거리점</i>, <i>강남역점</i>, <i>강남점</i>, <i>강남효성점</i>, <i>강동역점</i>, <i>거여역점</i>, <i>건대역점</i>, <i>경희대점</i>]\n"
     ]
    }
   ],
   "source": [
    "#  i태그에서 이름 파싱하기 \n",
    "store_name_tag = soup.findAll('i')\n",
    "print(store_name_tag)"
   ]
  },
  {
   "cell_type": "code",
   "execution_count": 55,
   "id": "db92e837",
   "metadata": {},
   "outputs": [
    {
     "name": "stdout",
     "output_type": "stream",
     "text": [
      "가산디지털단지역점\n",
      "강남구청점\n",
      "강남역사거리점\n",
      "강남역점\n",
      "강남점\n",
      "강남효성점\n",
      "강동역점\n",
      "거여역점\n",
      "건대역점\n",
      "경희대점\n"
     ]
    }
   ],
   "source": [
    "# 매장명 파싱해서 텍스트로 나타내기 \n",
    "for i in range(len(store_name_tag)):\n",
    "    store_name = store_name_tag[i].text\n",
    "    print(store_name)"
   ]
  },
  {
   "cell_type": "code",
   "execution_count": 73,
   "id": "c506fca0",
   "metadata": {},
   "outputs": [
    {
     "name": "stdout",
     "output_type": "stream",
     "text": [
      "서울시 금천구 가산동 60-3 \n",
      "서울 강남구 청담동 45-4\n",
      "서울특별시 강남구 역삼동 820-10\n",
      "서울 강남구 역삼동822-7\n",
      "서울 강남구 테헤란로4길 46 (역삼동 826-37) 쌍용 플래티넘, 1층\n",
      "서울 강남구 역삼동 825-24\n",
      "서울 강동구 천호동 447\n",
      "서울특별시 송파구 거여동 37-6\n",
      "서울 광진구 아차산로 221 (화양동 7-4)\n",
      "서울 동대문구 경희대로4길 1\n"
     ]
    }
   ],
   "source": [
    "# 주소 파싱하여 텍스트로 나타내기 \n",
    "address = soup.findAll('span',{'class','store_name_map'})\n",
    "\n",
    "for span in address :\n",
    "    inner_span = span.findAll('span')\n",
    "    print(inner_span[0].text)"
   ]
  },
  {
   "cell_type": "code",
   "execution_count": 139,
   "id": "db41926b",
   "metadata": {},
   "outputs": [
    {
     "name": "stdout",
     "output_type": "stream",
     "text": [
      "가산디지털단지역점 - 서울시 금천구 가산동 60-3\n",
      "강남구청점 - 서울 강남구 청담동 45-4\n",
      "강남역사거리점 - 서울특별시 강남구 역삼동 820-10\n",
      "강남역점 - 서울 강남구 역삼동822-7\n",
      "강남점 - 서울 강남구 테헤란로4길 46 (역삼동 826-37) 쌍용 플래티넘, 1층\n",
      "강남효성점 - 서울 강남구 역삼동 825-24\n",
      "강동역점 - 서울 강동구 천호동 447\n",
      "거여역점 - 서울특별시 송파구 거여동 37-6\n",
      "건대역점 - 서울 광진구 아차산로 221 (화양동 7-4)\n",
      "경희대점 - 서울 동대문구 경희대로4길 1\n"
     ]
    }
   ],
   "source": [
    "# 코드 정리하기 \n",
    "store_info = soup.findAll('span', {'class', 'store_name_map'})\n",
    "\n",
    "for i in range(len(store_info)):\n",
    "    store_name_tag = store_info[i].findAll('i')\n",
    "    inner_span = store_info[i].findAll('span')\n",
    "    print('{} - {}'.format(store_name_tag[0].text.strip(), inner_span[0].text.strip()))"
   ]
  },
  {
   "cell_type": "code",
   "execution_count": 148,
   "id": "87459942",
   "metadata": {
    "scrolled": false
   },
   "outputs": [
    {
     "name": "stdout",
     "output_type": "stream",
     "text": [
      "*****1페이지 - 1*****\n",
      "\n",
      "가산디지털단지역점 - 서울시 금천구 가산동 60-3\n",
      "강남구청점 - 서울 강남구 청담동 45-4\n",
      "강남역사거리점 - 서울특별시 강남구 역삼동 820-10\n",
      "강남역점 - 서울 강남구 역삼동822-7\n",
      "강남점 - 서울 강남구 테헤란로4길 46 (역삼동 826-37) 쌍용 플래티넘, 1층\n",
      "강남효성점 - 서울 강남구 역삼동 825-24\n",
      "강동역점 - 서울 강동구 천호동 447\n",
      "거여역점 - 서울특별시 송파구 거여동 37-6\n",
      "건대역점 - 서울 광진구 아차산로 221 (화양동 7-4)\n",
      "경희대점 - 서울 동대문구 경희대로4길 1\n",
      "*****1페이지 - 2*****\n",
      "\n",
      "광명하안점 - 광명시 하안동 36-2\n",
      "교대사거리점 - 서울 서초구 서초동 1598-1\n",
      "교대역점 - 서울 서초구 반포대로30길 82\n",
      "교대점 - 서울 서초구 서초대로54길 27, 1층\n",
      "교육개발원사거리점 - 서울 서초구 강남대로27길 7-21 1층\n",
      "구로비즈메트로점 - 서울시 구로구 구로동 851번지 한화비즈메트로1차 109호\n",
      "구로지플러스점 - 서울시 구로구 구로동 222-31\n",
      "국기원사거리점 - 서울 강남구 테헤란로8길 26 (역삼동827-48)\n",
      "군포첨단산업단지점 - 경기도 군포시 부곡동 1244-4 1층\n",
      "길동역점 - 서울 강동구 양재대로 1490 (길동 366-5)\n",
      "*****1페이지 - 3*****\n",
      "\n",
      "김포구래점 - 경기도 김포시 구래동 6883-10 103호\n",
      "낙성대역점 - 서울시 관악구 봉천동 1658-19\n",
      "남대문점 - 서울 중구 세종대로 15 남대문5가 6-7\n",
      "남부터미널점 - 서울 서초구 효령로57길 1\n",
      "답십리역점 - 서울특별시 동대문구 천호대로 289, 한일노벨리아 104호\n",
      "대치선릉점 - 서울특별시 강남구 대치동 890-45\n",
      "대치역점 - 서울 강남구 대치동 507\n",
      "대치은마점 - 서울 강남구 도곡로 451 (대치동 941-22) 한나빌딩, 1층\n",
      "대치점 - 서울 강남구 테헤란로 84길 14 (대치동 942-19), 1층\n",
      "대치포스코점 - 서울 강남구 테헤란로78길 16 (대치동 891-44) 노벨빌딩 증축동, 1층/2층\n",
      "*****1페이지 - 4*****\n",
      "\n",
      "도곡역점 - 서울특별시 강남구 남부순환로 2909 여천빌딩\n",
      "독도점 - 경상북도 울릉군 울릉읍 독도리 산 1-96\n",
      "뚝섬역점 - 서울시 성동구 성수동1가 13-164\n",
      "무교점 - 서울특별시 중구 다동 155\n",
      "문정역점 - 서울 송파구 법원로128 (문정동642-3, SKV1빌딩 1층)\n",
      "미아사거리역점 - 서울시 강북구 미아동 60-5\n",
      "방배역점 - 서울시 서초구 방배동 909-8\n",
      "범계역점 - 경기도 안양시 동안구 호계동 1045\n",
      "보라매역점 - 서울시 동작구 대방동 400-3\n",
      "분당서현점 - 경기도 성남시 분당구 서현동 268-6 101호\n",
      "*****1페이지 - 5*****\n",
      "\n",
      "사당역점 - 서울 서초구 방배동444-15\n",
      "삼성점 - 서울특별시 강남구 삼성동 157-4 1층\n",
      "삼성중앙역점 - 서울 강남구 삼성동 51-2 1층\n",
      "삼성타운점 - 서울 서초구 서초대로78길 26 (서초동1327-7)\n",
      "삼성테헤란로점 - 서울시 강남구 삼성동 144-23 1층\n",
      "상암DMC점 - 서울 마포구 상암동 1605\n",
      "서소문로점 - 서울 중구 서소문로 130 1층\n",
      "서초법원점 - 서울시 서초구 서초동 1554-5 아스트라 101호, 102호\n",
      "서초위브점 - 서울 서초구 서초동 1362\n",
      "서초점 - 서울 서초구 서초대로 254 B105호 (서초동, 오퓨런스)\n",
      "*****2페이지 - 1*****\n",
      "\n",
      "서현CGV점 - 경기도 분당구 서현동 256\n",
      "선릉공원점 - 서울 강남구 삼성동 142-46\n",
      "선릉역사거리점 - 서울 강남구 역삼동 705-19\n",
      "선릉역점 - 서울 강남구 테헤란로51길 7 (역삼동702-30)\n",
      "선릉위워크점 - 서울특별시 강남구 대치동 889-41\n",
      "선릉점 - 서울 강남구 언주로 98길 26 (역삼동 700-35), 1층\n",
      "선정릉점 - 서울 강남구 선릉로 577 (역삼동 682-20) POS TOWER, 1층\n",
      "세관사거리점 - 서울 강남구 언주로 702 (논현동115-13)\n",
      "속초중앙로점 - 강원도 속초시 중앙로 123-2\n",
      "수내역점 - 주소 경기 성남시 분당구 수내로46번길 26\n",
      "*****2페이지 - 2*****\n",
      "\n",
      "수송미장점 - 전라북도 군산시 수송동로 53, 1층\n",
      "수원시청역점 - 경기도 수원시 팔달구 인계동 1119\n",
      "수지성복점 - 경기도 용인시 수지구 성복2로 174, 상가동 104호\n",
      "숙대입구역점 - 서울특별시 용산구 갈월동 92 1층\n",
      "신논현역점 - 서울 서초구 서초동 1303-1\n",
      "신촌로터리점 - 서울특별시 마포구 노고산동 57-14\n",
      "신촌역점 - 서울 서대문구 신촌로 113 1층\n",
      "신촌점 - 서울시 서대문구 창천동 13-29\n",
      "약수역점 - 서울시 중구 신당동 369-9\n",
      "양재역점 - 서울 강남구 강남대로 240 (도곡동 953-1, 양재SK허브)\n",
      "*****2페이지 - 3*****\n",
      "\n",
      "양재이안점 - 서울특별시 서초구 강남대로34길 7, 1층\n",
      "양재점 - 서울 서초구  강남대로 221  (양재동 23)\n",
      "언주역점 - 서울시 강남구 역삼동 650\n",
      "여의도역점 - 서울특별시 영등포구 여의도동 26-1\n",
      "여의도KBS점 - 서울시 영등포구 여의도동 17번지 더샵아일랜드파크 102동 117호~118호\n",
      "역삼대로점 - 서울 강남구 논현로 427-1 (역삼동 738-27)\n",
      "역삼삼보점 - 서울특별시 강남구 역삼동 647-13\n",
      "역삼시티점 - 서울 강남구 논현로85길 52 B102호\n",
      "역삼역점 - 서울 강남구 강남대로 94길 95 (역삼동 644-19), 1층\n",
      "역삼초교사거리점 - 서울 강남구 역삼동829-17\n",
      "*****2페이지 - 4*****\n",
      "\n",
      "역삼GFC점 - 서울 강남구 테헤란로26길 10 (역삼동 736-55) 성보빌딩, 1층\n",
      "역삼GS점 - 서울 강남구 논현로 94길 13\n",
      "용인수지구청점 - 경기도 용인시 수지구 수지로296번길 51-7\n",
      "위례중앙점 - 서울특별시 송파구 위례광장로 120, 상가동 132호\n",
      "유성구청점 - 대전광역시 유성구 어은로 56, 지상1층\n",
      "을지병원사거리점 - 서울 강남구 논현동6-21\n",
      "이대점 - 서울 마포구 대현동 56-74\n",
      "인천동춘점 - 인천광역시 연수구 동춘동 936-1\n",
      "잠실새내점 - 서울 송파구 석촌호수로 64 (잠실동 208-16)\n",
      "종로구청점 - 서울특별시 종로구 종로3길 38\n",
      "*****2페이지 - 5*****\n",
      "\n",
      "중계은행사거리점 - 서울특별시 노원구 중계동 359-9\n",
      "청진타워8점 - 서울시 종로구 청진동 128\n",
      "충무로점 - 서울특별시 중구 필동2가 21-1\n",
      "테헤란로점 - 서울 강남구 역삼동 718-2\n",
      "통일점 - 평양시 천리마대로 1\n",
      "파인에비뉴점 - 서울시 중구 을지로2가 203\n",
      "페럼타워점 - 서울특별시 중구 수하동 66\n",
      "포스코사거리점 - 서울 강남구 테헤란로 447\n",
      "포이사거리점 - 서울시 서초구 양재동 276-6\n",
      "학동역점 - 서울 강남구 논현동 87-5\n",
      "*****마지막페이지*****\n",
      "\n",
      "한티역점 - 서울 강남구 선릉로311, 한티빌딩 1층\n",
      "합정역점 - 서울 마포구 양화로 72\n",
      "홍대입구역사거리점 - 서울 마포구 양화로 129\n",
      "회기역사거리점 - 서울 동대문구 회기로 176 (회기동81)\n",
      "AK금정점 - 경기도 군포시 금정동 689번지 AK플라자 금정점 2층\n",
      "가산파트너스타워점 - \n",
      "구로우림1차점 - \n",
      "문정테라타워점 - 서울특별시 송파구 송파대로 167, 문정역테라타워 A동 G123호\n",
      "시흥은계점 - 경기도 시흥시 은계번영길 11,111호\n",
      "원주무실점 - \n",
      "[{'Store Name': '가산디지털단지역점', 'Address': '서울시 금천구 가산동 60-3'}, {'Store Name': '강남구청점', 'Address': '서울 강남구 청담동 45-4'}, {'Store Name': '강남역사거리점', 'Address': '서울특별시 강남구 역삼동 820-10'}, {'Store Name': '강남역점', 'Address': '서울 강남구 역삼동822-7'}, {'Store Name': '강남점', 'Address': '서울 강남구 테헤란로4길 46 (역삼동 826-37) 쌍용 플래티넘, 1층'}, {'Store Name': '강남효성점', 'Address': '서울 강남구 역삼동 825-24'}, {'Store Name': '강동역점', 'Address': '서울 강동구 천호동 447'}, {'Store Name': '거여역점', 'Address': '서울특별시 송파구 거여동 37-6'}, {'Store Name': '건대역점', 'Address': '서울 광진구 아차산로 221 (화양동 7-4)'}, {'Store Name': '경희대점', 'Address': '서울 동대문구 경희대로4길 1'}, {'Store Name': '광명하안점', 'Address': '광명시 하안동 36-2'}, {'Store Name': '교대사거리점', 'Address': '서울 서초구 서초동 1598-1'}, {'Store Name': '교대역점', 'Address': '서울 서초구 반포대로30길 82'}, {'Store Name': '교대점', 'Address': '서울 서초구 서초대로54길 27, 1층'}, {'Store Name': '교육개발원사거리점', 'Address': '서울 서초구 강남대로27길 7-21 1층'}, {'Store Name': '구로비즈메트로점', 'Address': '서울시 구로구 구로동 851번지 한화비즈메트로1차 109호'}, {'Store Name': '구로지플러스점', 'Address': '서울시 구로구 구로동 222-31'}, {'Store Name': '국기원사거리점', 'Address': '서울 강남구 테헤란로8길 26 (역삼동827-48)'}, {'Store Name': '군포첨단산업단지점', 'Address': '경기도 군포시 부곡동 1244-4 1층'}, {'Store Name': '길동역점', 'Address': '서울 강동구 양재대로 1490 (길동 366-5)'}, {'Store Name': '김포구래점', 'Address': '경기도 김포시 구래동 6883-10 103호'}, {'Store Name': '낙성대역점', 'Address': '서울시 관악구 봉천동 1658-19'}, {'Store Name': '남대문점', 'Address': '서울 중구 세종대로 15 남대문5가 6-7'}, {'Store Name': '남부터미널점', 'Address': '서울 서초구 효령로57길 1'}, {'Store Name': '답십리역점', 'Address': '서울특별시 동대문구 천호대로 289, 한일노벨리아 104호'}, {'Store Name': '대치선릉점', 'Address': '서울특별시 강남구 대치동 890-45'}, {'Store Name': '대치역점', 'Address': '서울 강남구 대치동 507'}, {'Store Name': '대치은마점', 'Address': '서울 강남구 도곡로 451 (대치동 941-22) 한나빌딩, 1층'}, {'Store Name': '대치점', 'Address': '서울 강남구 테헤란로 84길 14 (대치동 942-19), 1층'}, {'Store Name': '대치포스코점', 'Address': '서울 강남구 테헤란로78길 16 (대치동 891-44) 노벨빌딩 증축동, 1층/2층'}, {'Store Name': '도곡역점', 'Address': '서울특별시 강남구 남부순환로 2909 여천빌딩'}, {'Store Name': '독도점', 'Address': '경상북도 울릉군 울릉읍 독도리 산 1-96'}, {'Store Name': '뚝섬역점', 'Address': '서울시 성동구 성수동1가 13-164'}, {'Store Name': '무교점', 'Address': '서울특별시 중구 다동 155'}, {'Store Name': '문정역점', 'Address': '서울 송파구 법원로128 (문정동642-3, SKV1빌딩 1층)'}, {'Store Name': '미아사거리역점', 'Address': '서울시 강북구 미아동 60-5'}, {'Store Name': '방배역점', 'Address': '서울시 서초구 방배동 909-8'}, {'Store Name': '범계역점', 'Address': '경기도 안양시 동안구 호계동 1045'}, {'Store Name': '보라매역점', 'Address': '서울시 동작구 대방동 400-3'}, {'Store Name': '분당서현점', 'Address': '경기도 성남시 분당구 서현동 268-6 101호'}, {'Store Name': '사당역점', 'Address': '서울 서초구 방배동444-15'}, {'Store Name': '삼성점', 'Address': '서울특별시 강남구 삼성동 157-4 1층'}, {'Store Name': '삼성중앙역점', 'Address': '서울 강남구 삼성동 51-2 1층'}, {'Store Name': '삼성타운점', 'Address': '서울 서초구 서초대로78길 26 (서초동1327-7)'}, {'Store Name': '삼성테헤란로점', 'Address': '서울시 강남구 삼성동 144-23 1층'}, {'Store Name': '상암DMC점', 'Address': '서울 마포구 상암동 1605'}, {'Store Name': '서소문로점', 'Address': '서울 중구 서소문로 130 1층'}, {'Store Name': '서초법원점', 'Address': '서울시 서초구 서초동 1554-5 아스트라 101호, 102호'}, {'Store Name': '서초위브점', 'Address': '서울 서초구 서초동 1362'}, {'Store Name': '서초점', 'Address': '서울 서초구 서초대로 254 B105호 (서초동, 오퓨런스)'}, {'Store Name': '서현CGV점', 'Address': '경기도 분당구 서현동 256'}, {'Store Name': '선릉공원점', 'Address': '서울 강남구 삼성동 142-46'}, {'Store Name': '선릉역사거리점', 'Address': '서울 강남구 역삼동 705-19'}, {'Store Name': '선릉역점', 'Address': '서울 강남구 테헤란로51길 7 (역삼동702-30)'}, {'Store Name': '선릉위워크점', 'Address': '서울특별시 강남구 대치동 889-41'}, {'Store Name': '선릉점', 'Address': '서울 강남구 언주로 98길 26 (역삼동 700-35), 1층'}, {'Store Name': '선정릉점', 'Address': '서울 강남구 선릉로 577 (역삼동 682-20) POS TOWER, 1층'}, {'Store Name': '세관사거리점', 'Address': '서울 강남구 언주로 702 (논현동115-13)'}, {'Store Name': '속초중앙로점', 'Address': '강원도 속초시 중앙로 123-2'}, {'Store Name': '수내역점', 'Address': '주소 경기 성남시 분당구 수내로46번길 26'}, {'Store Name': '수송미장점', 'Address': '전라북도 군산시 수송동로 53, 1층'}, {'Store Name': '수원시청역점', 'Address': '경기도 수원시 팔달구 인계동 1119'}, {'Store Name': '수지성복점', 'Address': '경기도 용인시 수지구 성복2로 174, 상가동 104호'}, {'Store Name': '숙대입구역점', 'Address': '서울특별시 용산구 갈월동 92 1층'}, {'Store Name': '신논현역점', 'Address': '서울 서초구 서초동 1303-1'}, {'Store Name': '신촌로터리점', 'Address': '서울특별시 마포구 노고산동 57-14'}, {'Store Name': '신촌역점', 'Address': '서울 서대문구 신촌로 113 1층'}, {'Store Name': '신촌점', 'Address': '서울시 서대문구 창천동 13-29'}, {'Store Name': '약수역점', 'Address': '서울시 중구 신당동 369-9'}, {'Store Name': '양재역점', 'Address': '서울 강남구 강남대로 240 (도곡동 953-1, 양재SK허브)'}, {'Store Name': '양재이안점', 'Address': '서울특별시 서초구 강남대로34길 7, 1층'}, {'Store Name': '양재점', 'Address': '서울 서초구  강남대로 221  (양재동 23)'}, {'Store Name': '언주역점', 'Address': '서울시 강남구 역삼동 650'}, {'Store Name': '여의도역점', 'Address': '서울특별시 영등포구 여의도동 26-1'}, {'Store Name': '여의도KBS점', 'Address': '서울시 영등포구 여의도동 17번지 더샵아일랜드파크 102동 117호~118호'}, {'Store Name': '역삼대로점', 'Address': '서울 강남구 논현로 427-1 (역삼동 738-27)'}, {'Store Name': '역삼삼보점', 'Address': '서울특별시 강남구 역삼동 647-13'}, {'Store Name': '역삼시티점', 'Address': '서울 강남구 논현로85길 52 B102호'}, {'Store Name': '역삼역점', 'Address': '서울 강남구 강남대로 94길 95 (역삼동 644-19), 1층'}, {'Store Name': '역삼초교사거리점', 'Address': '서울 강남구 역삼동829-17'}, {'Store Name': '역삼GFC점', 'Address': '서울 강남구 테헤란로26길 10 (역삼동 736-55) 성보빌딩, 1층'}, {'Store Name': '역삼GS점', 'Address': '서울 강남구 논현로 94길 13'}, {'Store Name': '용인수지구청점', 'Address': '경기도 용인시 수지구 수지로296번길 51-7'}, {'Store Name': '위례중앙점', 'Address': '서울특별시 송파구 위례광장로 120, 상가동 132호'}, {'Store Name': '유성구청점', 'Address': '대전광역시 유성구 어은로 56, 지상1층'}, {'Store Name': '을지병원사거리점', 'Address': '서울 강남구 논현동6-21'}, {'Store Name': '이대점', 'Address': '서울 마포구 대현동 56-74'}, {'Store Name': '인천동춘점', 'Address': '인천광역시 연수구 동춘동 936-1'}, {'Store Name': '잠실새내점', 'Address': '서울 송파구 석촌호수로 64 (잠실동 208-16)'}, {'Store Name': '종로구청점', 'Address': '서울특별시 종로구 종로3길 38'}, {'Store Name': '중계은행사거리점', 'Address': '서울특별시 노원구 중계동 359-9'}, {'Store Name': '청진타워8점', 'Address': '서울시 종로구 청진동 128'}, {'Store Name': '충무로점', 'Address': '서울특별시 중구 필동2가 21-1'}, {'Store Name': '테헤란로점', 'Address': '서울 강남구 역삼동 718-2'}, {'Store Name': '통일점', 'Address': '평양시 천리마대로 1'}, {'Store Name': '파인에비뉴점', 'Address': '서울시 중구 을지로2가 203'}, {'Store Name': '페럼타워점', 'Address': '서울특별시 중구 수하동 66'}, {'Store Name': '포스코사거리점', 'Address': '서울 강남구 테헤란로 447'}, {'Store Name': '포이사거리점', 'Address': '서울시 서초구 양재동 276-6'}, {'Store Name': '학동역점', 'Address': '서울 강남구 논현동 87-5'}, {'Store Name': '한티역점', 'Address': '서울 강남구 선릉로311, 한티빌딩 1층'}, {'Store Name': '합정역점', 'Address': '서울 마포구 양화로 72'}, {'Store Name': '홍대입구역사거리점', 'Address': '서울 마포구 양화로 129'}, {'Store Name': '회기역사거리점', 'Address': '서울 동대문구 회기로 176 (회기동81)'}, {'Store Name': 'AK금정점', 'Address': '경기도 군포시 금정동 689번지 AK플라자 금정점 2층'}, {'Store Name': '가산파트너스타워점', 'Address': ''}, {'Store Name': '구로우림1차점', 'Address': ''}, {'Store Name': '문정테라타워점', 'Address': '서울특별시 송파구 송파대로 167, 문정역테라타워 A동 G123호'}, {'Store Name': '시흥은계점', 'Address': '경기도 시흥시 은계번영길 11,111호'}, {'Store Name': '원주무실점', 'Address': ''}]\n"
     ]
    }
   ],
   "source": [
    "# 1페이지 /html/body/div/div/div/div/article/div/section/div/div[1]/div[3]/ul/li[1]/a\n",
    "# 2페이지 /html/body/div/div/div/div/article/div/section/div/div[1]/div[3]/ul/li[2]/a\n",
    "# 3페이지 /html/body/div/div/div/div/article/div/section/div/div[1]/div[3]/ul/li[3]/a\n",
    "# 4페이지 /html/body/div/div/div/div/article/div/section/div/div[1]/div[3]/ul/li[4]/a\n",
    "# 5페이지 /html/body/div/div/div/div/article/div/section/div/div[1]/div[3]/ul/li[5]/a\n",
    "# 6페이지 /html/body/div/div/div/div/article/div/section/div/div[1]/div[3]/ul/li[1]/a\n",
    "# 11페이지 /html/body/div/div/div/div/article/div/section/div/div[1]/div[3]/ul/li/a\n",
    "\n",
    "driver = webdriver.Chrome()\n",
    "driver.get('https://www.banapresso.com/store')\n",
    "page = 0\n",
    "\n",
    "data = []\n",
    "    \n",
    "while True:\n",
    "    \n",
    "    if(page <= 1):\n",
    "        #1~5 돌리기 \n",
    "        for i in range(1, 6):\n",
    "            \n",
    "            innerpage_xpath = f'/html/body/div/div/div/div/article/div/section/div/div[1]/div[3]/ul/li[{i}]/a'\n",
    "            driver.find_element(By.XPATH, innerpage_xpath).click()\n",
    "            print(f'*****{page+1}페이지 - {i}*****\\n')\n",
    "            \n",
    "            soup = BeautifulSoup(driver.page_source)\n",
    "            store_info = soup.findAll('span', {'class', 'store_name_map'})\n",
    "\n",
    "            for i in range(len(store_info)):\n",
    "                store_name= store_info[i].findAll('i')\n",
    "                store_address = store_info[i].findAll('span')\n",
    "                print('{} - {}'.format(store_name[0].text.strip(), store_address[0].text.strip()))\n",
    "                data.append({'Store Name': store_name[0].text.strip(), 'Address': store_address[0].text.strip()})\n",
    "        \n",
    "        # 6번을 보기 위해 다음페이지로 넘기기 \n",
    "        page_xpath = '/html/body/div/div/div/div/article/div/section/div/div[1]/div[3]/span[2]/a'\n",
    "        driver.find_element(By.XPATH, page_xpath).click()\n",
    "        # 마지막 11번 페이지 안넘기게 페이지 변수를 1씩 증가시킴\n",
    "        page += 1\n",
    "        \n",
    "    else:\n",
    "        \n",
    "        innerpage_xpath = f'/html/body/div/div/div/div/article/div/section/div/div[1]/div[3]/ul/li/a'\n",
    "        driver.find_element(By.XPATH, innerpage_xpath).click()\n",
    "        print(f'*****마지막페이지*****\\n')\n",
    "\n",
    "        soup = BeautifulSoup(driver.page_source)\n",
    "        store_info = soup.findAll('span', {'class', 'store_name_map'})\n",
    "\n",
    "        for i in range(len(store_info)):\n",
    "            store_name = store_info[i].findAll('i')\n",
    "            store_address = store_info[i].findAll('span')\n",
    "            print('{} - {}'.format(store_name[0].text.strip(), store_address[0].text.strip()))\n",
    "            data.append({'Store Name': store_name[0].text.strip(), 'Address': store_address[0].text.strip()})\n",
    "            \n",
    "        break"
   ]
  },
  {
   "cell_type": "code",
   "execution_count": 150,
   "id": "a4076304",
   "metadata": {},
   "outputs": [
    {
     "name": "stdout",
     "output_type": "stream",
     "text": [
      "[{'Store Name': '가산디지털단지역점', 'Address': '서울시 금천구 가산동 60-3'}, {'Store Name': '강남구청점', 'Address': '서울 강남구 청담동 45-4'}, {'Store Name': '강남역사거리점', 'Address': '서울특별시 강남구 역삼동 820-10'}, {'Store Name': '강남역점', 'Address': '서울 강남구 역삼동822-7'}, {'Store Name': '강남점', 'Address': '서울 강남구 테헤란로4길 46 (역삼동 826-37) 쌍용 플래티넘, 1층'}, {'Store Name': '강남효성점', 'Address': '서울 강남구 역삼동 825-24'}, {'Store Name': '강동역점', 'Address': '서울 강동구 천호동 447'}, {'Store Name': '거여역점', 'Address': '서울특별시 송파구 거여동 37-6'}, {'Store Name': '건대역점', 'Address': '서울 광진구 아차산로 221 (화양동 7-4)'}, {'Store Name': '경희대점', 'Address': '서울 동대문구 경희대로4길 1'}, {'Store Name': '광명하안점', 'Address': '광명시 하안동 36-2'}, {'Store Name': '교대사거리점', 'Address': '서울 서초구 서초동 1598-1'}, {'Store Name': '교대역점', 'Address': '서울 서초구 반포대로30길 82'}, {'Store Name': '교대점', 'Address': '서울 서초구 서초대로54길 27, 1층'}, {'Store Name': '교육개발원사거리점', 'Address': '서울 서초구 강남대로27길 7-21 1층'}, {'Store Name': '구로비즈메트로점', 'Address': '서울시 구로구 구로동 851번지 한화비즈메트로1차 109호'}, {'Store Name': '구로지플러스점', 'Address': '서울시 구로구 구로동 222-31'}, {'Store Name': '국기원사거리점', 'Address': '서울 강남구 테헤란로8길 26 (역삼동827-48)'}, {'Store Name': '군포첨단산업단지점', 'Address': '경기도 군포시 부곡동 1244-4 1층'}, {'Store Name': '길동역점', 'Address': '서울 강동구 양재대로 1490 (길동 366-5)'}, {'Store Name': '김포구래점', 'Address': '경기도 김포시 구래동 6883-10 103호'}, {'Store Name': '낙성대역점', 'Address': '서울시 관악구 봉천동 1658-19'}, {'Store Name': '남대문점', 'Address': '서울 중구 세종대로 15 남대문5가 6-7'}, {'Store Name': '남부터미널점', 'Address': '서울 서초구 효령로57길 1'}, {'Store Name': '답십리역점', 'Address': '서울특별시 동대문구 천호대로 289, 한일노벨리아 104호'}, {'Store Name': '대치선릉점', 'Address': '서울특별시 강남구 대치동 890-45'}, {'Store Name': '대치역점', 'Address': '서울 강남구 대치동 507'}, {'Store Name': '대치은마점', 'Address': '서울 강남구 도곡로 451 (대치동 941-22) 한나빌딩, 1층'}, {'Store Name': '대치점', 'Address': '서울 강남구 테헤란로 84길 14 (대치동 942-19), 1층'}, {'Store Name': '대치포스코점', 'Address': '서울 강남구 테헤란로78길 16 (대치동 891-44) 노벨빌딩 증축동, 1층/2층'}, {'Store Name': '도곡역점', 'Address': '서울특별시 강남구 남부순환로 2909 여천빌딩'}, {'Store Name': '독도점', 'Address': '경상북도 울릉군 울릉읍 독도리 산 1-96'}, {'Store Name': '뚝섬역점', 'Address': '서울시 성동구 성수동1가 13-164'}, {'Store Name': '무교점', 'Address': '서울특별시 중구 다동 155'}, {'Store Name': '문정역점', 'Address': '서울 송파구 법원로128 (문정동642-3, SKV1빌딩 1층)'}, {'Store Name': '미아사거리역점', 'Address': '서울시 강북구 미아동 60-5'}, {'Store Name': '방배역점', 'Address': '서울시 서초구 방배동 909-8'}, {'Store Name': '범계역점', 'Address': '경기도 안양시 동안구 호계동 1045'}, {'Store Name': '보라매역점', 'Address': '서울시 동작구 대방동 400-3'}, {'Store Name': '분당서현점', 'Address': '경기도 성남시 분당구 서현동 268-6 101호'}, {'Store Name': '사당역점', 'Address': '서울 서초구 방배동444-15'}, {'Store Name': '삼성점', 'Address': '서울특별시 강남구 삼성동 157-4 1층'}, {'Store Name': '삼성중앙역점', 'Address': '서울 강남구 삼성동 51-2 1층'}, {'Store Name': '삼성타운점', 'Address': '서울 서초구 서초대로78길 26 (서초동1327-7)'}, {'Store Name': '삼성테헤란로점', 'Address': '서울시 강남구 삼성동 144-23 1층'}, {'Store Name': '상암DMC점', 'Address': '서울 마포구 상암동 1605'}, {'Store Name': '서소문로점', 'Address': '서울 중구 서소문로 130 1층'}, {'Store Name': '서초법원점', 'Address': '서울시 서초구 서초동 1554-5 아스트라 101호, 102호'}, {'Store Name': '서초위브점', 'Address': '서울 서초구 서초동 1362'}, {'Store Name': '서초점', 'Address': '서울 서초구 서초대로 254 B105호 (서초동, 오퓨런스)'}, {'Store Name': '서현CGV점', 'Address': '경기도 분당구 서현동 256'}, {'Store Name': '선릉공원점', 'Address': '서울 강남구 삼성동 142-46'}, {'Store Name': '선릉역사거리점', 'Address': '서울 강남구 역삼동 705-19'}, {'Store Name': '선릉역점', 'Address': '서울 강남구 테헤란로51길 7 (역삼동702-30)'}, {'Store Name': '선릉위워크점', 'Address': '서울특별시 강남구 대치동 889-41'}, {'Store Name': '선릉점', 'Address': '서울 강남구 언주로 98길 26 (역삼동 700-35), 1층'}, {'Store Name': '선정릉점', 'Address': '서울 강남구 선릉로 577 (역삼동 682-20) POS TOWER, 1층'}, {'Store Name': '세관사거리점', 'Address': '서울 강남구 언주로 702 (논현동115-13)'}, {'Store Name': '속초중앙로점', 'Address': '강원도 속초시 중앙로 123-2'}, {'Store Name': '수내역점', 'Address': '주소 경기 성남시 분당구 수내로46번길 26'}, {'Store Name': '수송미장점', 'Address': '전라북도 군산시 수송동로 53, 1층'}, {'Store Name': '수원시청역점', 'Address': '경기도 수원시 팔달구 인계동 1119'}, {'Store Name': '수지성복점', 'Address': '경기도 용인시 수지구 성복2로 174, 상가동 104호'}, {'Store Name': '숙대입구역점', 'Address': '서울특별시 용산구 갈월동 92 1층'}, {'Store Name': '신논현역점', 'Address': '서울 서초구 서초동 1303-1'}, {'Store Name': '신촌로터리점', 'Address': '서울특별시 마포구 노고산동 57-14'}, {'Store Name': '신촌역점', 'Address': '서울 서대문구 신촌로 113 1층'}, {'Store Name': '신촌점', 'Address': '서울시 서대문구 창천동 13-29'}, {'Store Name': '약수역점', 'Address': '서울시 중구 신당동 369-9'}, {'Store Name': '양재역점', 'Address': '서울 강남구 강남대로 240 (도곡동 953-1, 양재SK허브)'}, {'Store Name': '양재이안점', 'Address': '서울특별시 서초구 강남대로34길 7, 1층'}, {'Store Name': '양재점', 'Address': '서울 서초구  강남대로 221  (양재동 23)'}, {'Store Name': '언주역점', 'Address': '서울시 강남구 역삼동 650'}, {'Store Name': '여의도역점', 'Address': '서울특별시 영등포구 여의도동 26-1'}, {'Store Name': '여의도KBS점', 'Address': '서울시 영등포구 여의도동 17번지 더샵아일랜드파크 102동 117호~118호'}, {'Store Name': '역삼대로점', 'Address': '서울 강남구 논현로 427-1 (역삼동 738-27)'}, {'Store Name': '역삼삼보점', 'Address': '서울특별시 강남구 역삼동 647-13'}, {'Store Name': '역삼시티점', 'Address': '서울 강남구 논현로85길 52 B102호'}, {'Store Name': '역삼역점', 'Address': '서울 강남구 강남대로 94길 95 (역삼동 644-19), 1층'}, {'Store Name': '역삼초교사거리점', 'Address': '서울 강남구 역삼동829-17'}, {'Store Name': '역삼GFC점', 'Address': '서울 강남구 테헤란로26길 10 (역삼동 736-55) 성보빌딩, 1층'}, {'Store Name': '역삼GS점', 'Address': '서울 강남구 논현로 94길 13'}, {'Store Name': '용인수지구청점', 'Address': '경기도 용인시 수지구 수지로296번길 51-7'}, {'Store Name': '위례중앙점', 'Address': '서울특별시 송파구 위례광장로 120, 상가동 132호'}, {'Store Name': '유성구청점', 'Address': '대전광역시 유성구 어은로 56, 지상1층'}, {'Store Name': '을지병원사거리점', 'Address': '서울 강남구 논현동6-21'}, {'Store Name': '이대점', 'Address': '서울 마포구 대현동 56-74'}, {'Store Name': '인천동춘점', 'Address': '인천광역시 연수구 동춘동 936-1'}, {'Store Name': '잠실새내점', 'Address': '서울 송파구 석촌호수로 64 (잠실동 208-16)'}, {'Store Name': '종로구청점', 'Address': '서울특별시 종로구 종로3길 38'}, {'Store Name': '중계은행사거리점', 'Address': '서울특별시 노원구 중계동 359-9'}, {'Store Name': '청진타워8점', 'Address': '서울시 종로구 청진동 128'}, {'Store Name': '충무로점', 'Address': '서울특별시 중구 필동2가 21-1'}, {'Store Name': '테헤란로점', 'Address': '서울 강남구 역삼동 718-2'}, {'Store Name': '통일점', 'Address': '평양시 천리마대로 1'}, {'Store Name': '파인에비뉴점', 'Address': '서울시 중구 을지로2가 203'}, {'Store Name': '페럼타워점', 'Address': '서울특별시 중구 수하동 66'}, {'Store Name': '포스코사거리점', 'Address': '서울 강남구 테헤란로 447'}, {'Store Name': '포이사거리점', 'Address': '서울시 서초구 양재동 276-6'}, {'Store Name': '학동역점', 'Address': '서울 강남구 논현동 87-5'}, {'Store Name': '한티역점', 'Address': '서울 강남구 선릉로311, 한티빌딩 1층'}, {'Store Name': '합정역점', 'Address': '서울 마포구 양화로 72'}, {'Store Name': '홍대입구역사거리점', 'Address': '서울 마포구 양화로 129'}, {'Store Name': '회기역사거리점', 'Address': '서울 동대문구 회기로 176 (회기동81)'}, {'Store Name': 'AK금정점', 'Address': '경기도 군포시 금정동 689번지 AK플라자 금정점 2층'}, {'Store Name': '가산파트너스타워점', 'Address': ''}, {'Store Name': '구로우림1차점', 'Address': ''}, {'Store Name': '문정테라타워점', 'Address': '서울특별시 송파구 송파대로 167, 문정역테라타워 A동 G123호'}, {'Store Name': '시흥은계점', 'Address': '경기도 시흥시 은계번영길 11,111호'}, {'Store Name': '원주무실점', 'Address': ''}]\n"
     ]
    }
   ],
   "source": [
    "print(data)"
   ]
  },
  {
   "cell_type": "code",
   "execution_count": 154,
   "id": "69b9c992",
   "metadata": {},
   "outputs": [
    {
     "data": {
      "text/html": [
       "<div>\n",
       "<style scoped>\n",
       "    .dataframe tbody tr th:only-of-type {\n",
       "        vertical-align: middle;\n",
       "    }\n",
       "\n",
       "    .dataframe tbody tr th {\n",
       "        vertical-align: top;\n",
       "    }\n",
       "\n",
       "    .dataframe thead th {\n",
       "        text-align: right;\n",
       "    }\n",
       "</style>\n",
       "<table border=\"1\" class=\"dataframe\">\n",
       "  <thead>\n",
       "    <tr style=\"text-align: right;\">\n",
       "      <th></th>\n",
       "      <th>Store Name</th>\n",
       "      <th>Address</th>\n",
       "    </tr>\n",
       "  </thead>\n",
       "  <tbody>\n",
       "    <tr>\n",
       "      <th>0</th>\n",
       "      <td>가산디지털단지역점</td>\n",
       "      <td>서울시 금천구 가산동 60-3</td>\n",
       "    </tr>\n",
       "    <tr>\n",
       "      <th>1</th>\n",
       "      <td>강남구청점</td>\n",
       "      <td>서울 강남구 청담동 45-4</td>\n",
       "    </tr>\n",
       "    <tr>\n",
       "      <th>2</th>\n",
       "      <td>강남역사거리점</td>\n",
       "      <td>서울특별시 강남구 역삼동 820-10</td>\n",
       "    </tr>\n",
       "    <tr>\n",
       "      <th>3</th>\n",
       "      <td>강남역점</td>\n",
       "      <td>서울 강남구 역삼동822-7</td>\n",
       "    </tr>\n",
       "    <tr>\n",
       "      <th>4</th>\n",
       "      <td>강남점</td>\n",
       "      <td>서울 강남구 테헤란로4길 46 (역삼동 826-37) 쌍용 플래티넘, 1층</td>\n",
       "    </tr>\n",
       "    <tr>\n",
       "      <th>...</th>\n",
       "      <td>...</td>\n",
       "      <td>...</td>\n",
       "    </tr>\n",
       "    <tr>\n",
       "      <th>105</th>\n",
       "      <td>가산파트너스타워점</td>\n",
       "      <td></td>\n",
       "    </tr>\n",
       "    <tr>\n",
       "      <th>106</th>\n",
       "      <td>구로우림1차점</td>\n",
       "      <td></td>\n",
       "    </tr>\n",
       "    <tr>\n",
       "      <th>107</th>\n",
       "      <td>문정테라타워점</td>\n",
       "      <td>서울특별시 송파구 송파대로 167, 문정역테라타워 A동 G123호</td>\n",
       "    </tr>\n",
       "    <tr>\n",
       "      <th>108</th>\n",
       "      <td>시흥은계점</td>\n",
       "      <td>경기도 시흥시 은계번영길 11,111호</td>\n",
       "    </tr>\n",
       "    <tr>\n",
       "      <th>109</th>\n",
       "      <td>원주무실점</td>\n",
       "      <td></td>\n",
       "    </tr>\n",
       "  </tbody>\n",
       "</table>\n",
       "<p>110 rows × 2 columns</p>\n",
       "</div>"
      ],
      "text/plain": [
       "    Store Name                                    Address\n",
       "0    가산디지털단지역점                           서울시 금천구 가산동 60-3\n",
       "1        강남구청점                            서울 강남구 청담동 45-4\n",
       "2      강남역사거리점                       서울특별시 강남구 역삼동 820-10\n",
       "3         강남역점                            서울 강남구 역삼동822-7\n",
       "4          강남점  서울 강남구 테헤란로4길 46 (역삼동 826-37) 쌍용 플래티넘, 1층\n",
       "..         ...                                        ...\n",
       "105  가산파트너스타워점                                           \n",
       "106    구로우림1차점                                           \n",
       "107    문정테라타워점       서울특별시 송파구 송파대로 167, 문정역테라타워 A동 G123호\n",
       "108      시흥은계점                      경기도 시흥시 은계번영길 11,111호\n",
       "109      원주무실점                                           \n",
       "\n",
       "[110 rows x 2 columns]"
      ]
     },
     "execution_count": 154,
     "metadata": {},
     "output_type": "execute_result"
    }
   ],
   "source": [
    "df = pd.DataFrame(data)\n",
    "df"
   ]
  },
  {
   "cell_type": "code",
   "execution_count": 156,
   "id": "baea2f9d",
   "metadata": {},
   "outputs": [],
   "source": [
    "df.to_excel('바나프레소_매장정보.xlsx')"
   ]
  },
  {
   "cell_type": "code",
   "execution_count": 155,
   "id": "7acacf89",
   "metadata": {},
   "outputs": [
    {
     "name": "stdout",
     "output_type": "stream",
     "text": [
      "Collecting openpyxl\n",
      "  Downloading openpyxl-3.1.2-py2.py3-none-any.whl (249 kB)\n",
      "Collecting et-xmlfile\n",
      "  Downloading et_xmlfile-1.1.0-py3-none-any.whl (4.7 kB)\n",
      "Installing collected packages: et-xmlfile, openpyxl\n",
      "Successfully installed et-xmlfile-1.1.0 openpyxl-3.1.2\n"
     ]
    },
    {
     "name": "stderr",
     "output_type": "stream",
     "text": [
      "WARNING: You are using pip version 21.1.1; however, version 23.1.2 is available.\n",
      "You should consider upgrading via the 'C:\\Users\\sangdal\\AppData\\Local\\Microsoft\\WindowsApps\\PythonSoftwareFoundation.Python.3.8_qbz5n2kfra8p0\\python.exe -m pip install --upgrade pip' command.\n"
     ]
    }
   ],
   "source": [
    "!pip install openpyxl"
   ]
  },
  {
   "cell_type": "code",
   "execution_count": null,
   "id": "7234d5b6",
   "metadata": {},
   "outputs": [],
   "source": []
  }
 ],
 "metadata": {
  "kernelspec": {
   "display_name": "Python 3 (ipykernel)",
   "language": "python",
   "name": "python3"
  },
  "language_info": {
   "codemirror_mode": {
    "name": "ipython",
    "version": 3
   },
   "file_extension": ".py",
   "mimetype": "text/x-python",
   "name": "python",
   "nbconvert_exporter": "python",
   "pygments_lexer": "ipython3",
   "version": "3.8.10"
  }
 },
 "nbformat": 4,
 "nbformat_minor": 5
}
